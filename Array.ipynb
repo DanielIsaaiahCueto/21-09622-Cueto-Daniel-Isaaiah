{
 "cells": [
  {
   "cell_type": "code",
   "execution_count": 3,
   "metadata": {},
   "outputs": [
    {
     "name": "stdout",
     "output_type": "stream",
     "text": [
      "The initial array: array('b', [10, 20, 30, 40, 50])\n",
      "After reversing the array:array('b', [50, 40, 30, 20, 10])\n"
     ]
    }
   ],
   "source": [
    "from array import *\n",
    "array_a = array('b',[10,20,30,40,50])\n",
    "print(\"The initial array: \"+str(array_a))\n",
    "\n",
    "array_a.reverse()\n",
    "print(\"After reversing the array:\"+str(array_a))"
   ]
  },
  {
   "cell_type": "code",
   "execution_count": 6,
   "metadata": {},
   "outputs": [
    {
     "name": "stdout",
     "output_type": "stream",
     "text": [
      "The initial array:\n",
      "100\n",
      "90\n",
      "80\n",
      "70\n",
      "60\n",
      "Access number 2 and 3 items individually\n",
      "90\n",
      "80\n"
     ]
    }
   ],
   "source": [
    "from array import *\n",
    "array_a = array('b', [100,90,80,70,60])\n",
    "print(\"The initial array:\")\n",
    "\n",
    "for i in array_a:\n",
    "    print(i)\n",
    "\n",
    "print(\"Access number 2 and 3 items individually\")\n",
    "print(array_a[1])\n",
    "print(array_a[2])"
   ]
  },
  {
   "cell_type": "code",
   "execution_count": 7,
   "metadata": {},
   "outputs": [
    {
     "name": "stdout",
     "output_type": "stream",
     "text": [
      "The initial array: array('b', [0, 1, 2, 3, 4, 5])\n",
      "The length in bytes of one array item: 1\n"
     ]
    }
   ],
   "source": [
    "from array import *\n",
    "array_a = array('b', [0,1,2,3,4,5])\n",
    "print(\"The initial array: \"+str(array_a))\n",
    "print(\"The length in bytes of one array item: \"+str(array_a.itemsize))"
   ]
  },
  {
   "cell_type": "code",
   "execution_count": 9,
   "metadata": {},
   "outputs": [
    {
     "name": "stdout",
     "output_type": "stream",
     "text": [
      "The initial elements in the list: [10, 20, 30, 40, 50, 60]\n",
      "New array is: array('b', [10, 20, 30, 40, 50, 60])\n",
      "The class of array_b is:  <class 'array.array'>\n"
     ]
    }
   ],
   "source": [
    "from array import *\n",
    "list_a = [10,20,30,40,50,60]\n",
    "array_b = array('b', [])\n",
    "print(\"The initial elements in the list: \"+str(list_a))\n",
    "\n",
    "array_b.fromlist(list_a)\n",
    "print(\"New array is: \"+str(array_b))\n",
    "print(\"The class of array_b is: \",type(array_b))"
   ]
  },
  {
   "cell_type": "code",
   "execution_count": 17,
   "metadata": {},
   "outputs": [
    {
     "name": "stdout",
     "output_type": "stream",
     "text": [
      "The initial array: array('b', [0, 1, 2, 3, 4, 5, 2, 1, 5])\n",
      "Remove the first occurrence of number 1 from the array_a: array('b', [0, 2, 3, 4, 5, 2, 1, 5])\n"
     ]
    }
   ],
   "source": [
    "from array import *\n",
    "array_a = array('b', [0,1,2,3,4,5,2,1,5])\n",
    "print(\"The initial array: \"+str(array_a))\n",
    "\n",
    "array_a.remove(1)\n",
    "print(\"Remove the first occurrence of number 1 from the array_a: \"+str(array_a))"
   ]
  }
 ],
 "metadata": {
  "kernelspec": {
   "display_name": "Python 3.9.12 ('base')",
   "language": "python",
   "name": "python3"
  },
  "language_info": {
   "codemirror_mode": {
    "name": "ipython",
    "version": 3
   },
   "file_extension": ".py",
   "mimetype": "text/x-python",
   "name": "python",
   "nbconvert_exporter": "python",
   "pygments_lexer": "ipython3",
   "version": "3.9.12"
  },
  "orig_nbformat": 4,
  "vscode": {
   "interpreter": {
    "hash": "f7882b05de924ecb04b2279d3bf694a6babdfc8bca6d7cffbb546457d0858fa9"
   }
  }
 },
 "nbformat": 4,
 "nbformat_minor": 2
}
