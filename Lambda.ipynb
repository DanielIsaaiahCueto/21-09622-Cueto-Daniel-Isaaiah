{
 "cells": [
  {
   "cell_type": "code",
   "execution_count": 4,
   "metadata": {},
   "outputs": [
    {
     "name": "stdout",
     "output_type": "stream",
     "text": [
      "The double number of 27.2 = 54.4\n"
     ]
    }
   ],
   "source": [
    "def double_number(n):\n",
    " return lambda x : x * n\n",
    " \n",
    "result = double_number(2)\n",
    "print(\"The double number of 27.2 =\", result(27.2))"
   ]
  },
  {
   "cell_type": "code",
   "execution_count": 7,
   "metadata": {},
   "outputs": [
    {
     "name": "stdout",
     "output_type": "stream",
     "text": [
      "The initial list of tuples:\n",
      "[('C++', 198), ('Java', 112), ('C', 67)]\n",
      "\n",
      "After sorting the list of tuples:\n",
      "[('C', 67), ('Java', 112), ('C++', 198)]\n"
     ]
    }
   ],
   "source": [
    "n_programmer = [('C++', 198), ('Java', 112), ('C', 67)]\n",
    " \n",
    "print(\"The initial list of tuples:\")\n",
    "print(n_programmer)\n",
    " \n",
    "n_programmer.sort(key = lambda x: x[1])\n",
    " \n",
    "print(\"\\nAfter sorting the list of tuples:\")\n",
    "print(n_programmer)"
   ]
  },
  {
   "cell_type": "code",
   "execution_count": 16,
   "metadata": {},
   "outputs": [
    {
     "name": "stdout",
     "output_type": "stream",
     "text": [
      "After adding 10: 50\n"
     ]
    }
   ],
   "source": [
    "input_number = lambda a : a + 40\n",
    "print(\"After adding 10:\", input_number(10))"
   ]
  },
  {
   "cell_type": "code",
   "execution_count": 15,
   "metadata": {},
   "outputs": [
    {
     "name": "stdout",
     "output_type": "stream",
     "text": [
      "Zed starts with B letter: False\n",
      "Love starts with L letter: True\n"
     ]
    }
   ],
   "source": [
    "starts_with = lambda x: True if x.startswith('B') else False\n",
    "print(\"Zed starts with B letter:\", starts_with('Zed'))\n",
    " \n",
    "starts_with = lambda x: True if x.startswith('Love') else False\n",
    "print(\"Love starts with L letter:\", starts_with('Love'))"
   ]
  },
  {
   "cell_type": "code",
   "execution_count": 18,
   "metadata": {},
   "outputs": [
    {
     "name": "stdout",
     "output_type": "stream",
     "text": [
      "Is the given 7892 a number: True\n",
      "Is the given Zed a number: False\n"
     ]
    }
   ],
   "source": [
    "is_num = lambda q: q.replace('.','',1).isdigit()\n",
    "print(\"Is the given 7892 a number:\", is_num('7892'))\n",
    "print(\"Is the given Zed a number:\", is_num('Zed'))\n",
    "           "
   ]
  }
 ],
 "metadata": {
  "kernelspec": {
   "display_name": "Python 3.9.12 ('base')",
   "language": "python",
   "name": "python3"
  },
  "language_info": {
   "codemirror_mode": {
    "name": "ipython",
    "version": 3
   },
   "file_extension": ".py",
   "mimetype": "text/x-python",
   "name": "python",
   "nbconvert_exporter": "python",
   "pygments_lexer": "ipython3",
   "version": "3.9.12"
  },
  "orig_nbformat": 4,
  "vscode": {
   "interpreter": {
    "hash": "f7882b05de924ecb04b2279d3bf694a6babdfc8bca6d7cffbb546457d0858fa9"
   }
  }
 },
 "nbformat": 4,
 "nbformat_minor": 2
}
