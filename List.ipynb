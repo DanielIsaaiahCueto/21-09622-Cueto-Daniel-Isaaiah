{
 "cells": [
  {
   "cell_type": "code",
   "execution_count": 63,
   "metadata": {},
   "outputs": [
    {
     "name": "stdout",
     "output_type": "stream",
     "text": [
      "[23, 49, 63, 15, 53, 67]\n"
     ]
    }
   ],
   "source": [
    "import random\n",
    "print(random.sample([i for i in range(1,70) if i%2!=0], 6))"
   ]
  },
  {
   "cell_type": "code",
   "execution_count": 64,
   "metadata": {},
   "outputs": [
    {
     "name": "stdout",
     "output_type": "stream",
     "text": [
      "All names are: Leo-Katarina-Lux-Jinx\n"
     ]
    }
   ],
   "source": [
    "names = ['Leo', 'Katarina', 'Lux', 'Jinx']\n",
    "combine_names = '-'.join(names)\n",
    " \n",
    "print(\"All names are: \"+combine_names)"
   ]
  },
  {
   "cell_type": "code",
   "execution_count": 65,
   "metadata": {},
   "outputs": [
    {
     "name": "stdout",
     "output_type": "stream",
     "text": [
      "[(3, 5, 1), (3, 1, 5), (5, 3, 1), (5, 1, 3), (1, 3, 5), (1, 5, 3)]\n"
     ]
    }
   ],
   "source": [
    "import itertools\n",
    "print(list(itertools.permutations([3,5,1])))"
   ]
  },
  {
   "cell_type": "code",
   "execution_count": 66,
   "metadata": {},
   "outputs": [
    {
     "name": "stdout",
     "output_type": "stream",
     "text": [
      "0 Fly\n",
      "1 Dive\n",
      "2 Smash\n",
      "3 Ignite\n",
      "4 Run\n",
      "5 Sky\n"
     ]
    }
   ],
   "source": [
    "noun_list = ['Fly', 'Dive', 'Smash', 'Ignite', 'Run', 'Sky']\n",
    "for noun_list_index, noun_list_val in enumerate(noun_list):\n",
    "    print(noun_list_index, noun_list_val)"
   ]
  },
  {
   "cell_type": "code",
   "execution_count": 67,
   "metadata": {},
   "outputs": [
    {
     "name": "stdout",
     "output_type": "stream",
     "text": [
      "Changing from a list of character ['o', 'v', 'e', 'r', 'l', 'o', 'r', 'd'] into a string: overlord\n"
     ]
    }
   ],
   "source": [
    "character_a = ['o', 'v', 'e', 'r', 'l', 'o', 'r', 'd']\n",
    "new_string = ''.join(character_a)\n",
    "print(\"Changing from a list of character ['o', 'v', 'e', 'r', 'l', 'o', 'r', 'd'] into a string:\", new_string)"
   ]
  },
  {
   "cell_type": "code",
   "execution_count": 68,
   "metadata": {},
   "outputs": [
    {
     "name": "stdout",
     "output_type": "stream",
     "text": [
      "The highest number in the number_list is:  300\n"
     ]
    }
   ],
   "source": [
    "number_list = [100, 33, 47, 300, 147, 88, 1]\n",
    "print(\"The highest number in the number_list is: \",\n",
    "(max(number_list)))"
   ]
  }
 ],
 "metadata": {
  "kernelspec": {
   "display_name": "Python 3.9.12 ('base')",
   "language": "python",
   "name": "python3"
  },
  "language_info": {
   "codemirror_mode": {
    "name": "ipython",
    "version": 3
   },
   "file_extension": ".py",
   "mimetype": "text/x-python",
   "name": "python",
   "nbconvert_exporter": "python",
   "pygments_lexer": "ipython3",
   "version": "3.9.12"
  },
  "orig_nbformat": 4,
  "vscode": {
   "interpreter": {
    "hash": "f7882b05de924ecb04b2279d3bf694a6babdfc8bca6d7cffbb546457d0858fa9"
   }
  }
 },
 "nbformat": 4,
 "nbformat_minor": 2
}
