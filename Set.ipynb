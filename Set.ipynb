{
 "cells": [
  {
   "cell_type": "code",
   "execution_count": 1,
   "metadata": {},
   "outputs": [
    {
     "name": "stdout",
     "output_type": "stream",
     "text": [
      "Pink\n",
      "Black\n",
      "Blue\n",
      "Green\n",
      "Red\n",
      "Brown\n"
     ]
    }
   ],
   "source": [
    "#set\n",
    "\n",
    "set_a = set(['Black', 'Brown', 'Green', 'Red', 'Pink', 'Blue'])\n",
    " \n",
    "for i in set_a:\n",
    "  print(i)"
   ]
  },
  {
   "cell_type": "code",
   "execution_count": 2,
   "metadata": {},
   "outputs": [
    {
     "name": "stdout",
     "output_type": "stream",
     "text": [
      "After adding new items 'Aoi' and 'Akane' is: {'Aoi', 'Itachi', 'Akira', 'Asuka', 'Ichigo', 'Inuyasha', 'Akane', 'Naruto'}\n"
     ]
    }
   ],
   "source": [
    "set_a = set(['Naruto', 'Itachi', 'Inuyasha', 'Akira', 'Ichigo', 'Asuka'])\n",
    "set_a.update([\"Aoi\", \"Akane\"])\n",
    "print(\"After adding new items 'Aoi' and 'Akane' is:\", set_a)          "
   ]
  },
  {
   "cell_type": "code",
   "execution_count": 3,
   "metadata": {},
   "outputs": [
    {
     "name": "stdout",
     "output_type": "stream",
     "text": [
      "After removing first item:  {'Akira', 'Asuka', 'Ichigo', 'Inuyasha', 'Naruto'}\n",
      "After removing second item:  {'Asuka', 'Ichigo', 'Inuyasha', 'Naruto'}\n"
     ]
    }
   ],
   "source": [
    "set_a = set(['Naruto', 'Itachi', 'Inuyasha', 'Akira', 'Ichigo', 'Asuka'])\n",
    "set_a.pop()\n",
    "print(\"After removing first item: \", set_a)\n",
    "set_a.pop()\n",
    "print(\"After removing second item: \",set_a)\n",
    "          "
   ]
  },
  {
   "cell_type": "code",
   "execution_count": 4,
   "metadata": {},
   "outputs": [
    {
     "name": "stdout",
     "output_type": "stream",
     "text": [
      "The intercept value is: {'Goku'}\n"
     ]
    }
   ],
   "source": [
    "set_a = set(['Daisuke', 'Kaede', 'Goku', 'Levi'])\n",
    "set_b = set(['Rin', 'Hayate', 'Aiko', 'Goku'])\n",
    "intercept_set = set_a & set_b\n",
    "print(\"The intercept value is:\", intercept_set)"
   ]
  },
  {
   "cell_type": "code",
   "execution_count": 5,
   "metadata": {},
   "outputs": [
    {
     "name": "stdout",
     "output_type": "stream",
     "text": [
      "The set difference of values are: {'Kamiko', 'Asuka', 'Kyoko'}\n"
     ]
    }
   ],
   "source": [
    "set_a = set(['Asuka', 'Kamiko', 'Hana', 'Kyoko'])\n",
    "set_b = set(['Hana', 'Hinata', 'Library', 'Chouko'])\n",
    "difference_set = set_a - set_b\n",
    "print(\"The set difference of values are:\", difference_set)"
   ]
  }
 ],
 "metadata": {
  "kernelspec": {
   "display_name": "Python 3.9.12 ('base')",
   "language": "python",
   "name": "python3"
  },
  "language_info": {
   "codemirror_mode": {
    "name": "ipython",
    "version": 3
   },
   "file_extension": ".py",
   "mimetype": "text/x-python",
   "name": "python",
   "nbconvert_exporter": "python",
   "pygments_lexer": "ipython3",
   "version": "3.9.12"
  },
  "orig_nbformat": 4,
  "vscode": {
   "interpreter": {
    "hash": "f7882b05de924ecb04b2279d3bf694a6babdfc8bca6d7cffbb546457d0858fa9"
   }
  }
 },
 "nbformat": 4,
 "nbformat_minor": 2
}
