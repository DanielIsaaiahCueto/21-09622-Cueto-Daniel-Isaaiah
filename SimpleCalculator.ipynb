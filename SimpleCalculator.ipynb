{
 "cells": [
  {
   "cell_type": "code",
   "execution_count": 1,
   "metadata": {},
   "outputs": [
    {
     "name": "stdout",
     "output_type": "stream",
     "text": [
      "552.0\n"
     ]
    }
   ],
   "source": [
    "#Classic Calculator\n",
    "\n",
    "num_1 = float(input(\"Enter the 1st Number: \"))\n",
    "num_2 = float(input(\"Enter the 2nd number: \"))\n",
    "operator = input(\"Type the Operation\")\n",
    "\n",
    "#Function \n",
    "\n",
    "def calcul(val1, val2, oper):\n",
    "    result = 0.0\n",
    "    if oper == \"+\":\n",
    "        result = val1 + val2\n",
    "    elif oper == \"-\":\n",
    "        result = val1 - val2\n",
    "    elif oper == \"*\":\n",
    "        result = val1 * val2\n",
    "    elif oper == \"/\":\n",
    "        result = val1 / val2\n",
    "    else:\n",
    "        print(\"Operator is not valid !\")\n",
    "    return(result)\n",
    "\n",
    "the_result = calcul(num_1, num_2, operator)\n",
    "print(the_result)"
   ]
  }
 ],
 "metadata": {
  "kernelspec": {
   "display_name": "Python 3.9.12 ('base')",
   "language": "python",
   "name": "python3"
  },
  "language_info": {
   "codemirror_mode": {
    "name": "ipython",
    "version": 3
   },
   "file_extension": ".py",
   "mimetype": "text/x-python",
   "name": "python",
   "nbconvert_exporter": "python",
   "pygments_lexer": "ipython3",
   "version": "3.9.12"
  },
  "orig_nbformat": 4,
  "vscode": {
   "interpreter": {
    "hash": "f7882b05de924ecb04b2279d3bf694a6babdfc8bca6d7cffbb546457d0858fa9"
   }
  }
 },
 "nbformat": 4,
 "nbformat_minor": 2
}
