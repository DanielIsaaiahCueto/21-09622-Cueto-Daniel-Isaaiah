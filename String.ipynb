{
 "cells": [
  {
   "cell_type": "code",
   "execution_count": 2,
   "metadata": {},
   "outputs": [
    {
     "name": "stdout",
     "output_type": "stream",
     "text": [
      "\t\tILY\tILY\n",
      "\t     ILY    ILY\t   ILY\n",
      "\t   ILY\t\t     ILY\n",
      "\t     ILY\t   ILY\n",
      "\t\tILY\tILY\n",
      "\t\t    ILY\n"
     ]
    }
   ],
   "source": [
    "print(\"\\t\\tILY\\tILY\\n\\t     ILY    ILY\\t   ILY\\n\\t   ILY\\t\\t     ILY\\n\\t     ILY\\t   ILY\\n\\t\\tILY\\tILY\\n\\t\\t    ILY\")"
   ]
  },
  {
   "cell_type": "code",
   "execution_count": 3,
   "metadata": {},
   "outputs": [
    {
     "name": "stdout",
     "output_type": "stream",
     "text": [
      "Roger John\n"
     ]
    }
   ],
   "source": [
    "name_list = [\"Roger\", \"Marie\", \"John\", \"Mao\"]\n",
    "print(\"%s %s\"% (name_list[0],name_list[2]))"
   ]
  },
  {
   "cell_type": "code",
   "execution_count": 6,
   "metadata": {},
   "outputs": [
    {
     "name": "stdout",
     "output_type": "stream",
     "text": [
      "The number of days between 3rd August and 17th September 2018:  45 days\n"
     ]
    }
   ],
   "source": [
    "from datetime import date\n",
    "start_date = date (2022, 8, 3)\n",
    "end_date = date (2022, 9, 17)\n",
    "number_of_days = end_date - start_date\n",
    "print(\"The number of days between 3rd August and 17th September 2018: \",\n",
    "number_of_days.days, \"days\")"
   ]
  },
  {
   "cell_type": "code",
   "execution_count": 7,
   "metadata": {},
   "outputs": [
    {
     "name": "stdout",
     "output_type": "stream",
     "text": [
      "I have a Cat and he is 4 years old.\n"
     ]
    }
   ],
   "source": [
    "variable_a = (\"Cat\", 4)\n",
    "print(\"I have a %s and he is %i years old.\"\n",
    "%variable_a)"
   ]
  },
  {
   "cell_type": "code",
   "execution_count": 11,
   "metadata": {},
   "outputs": [
    {
     "name": "stdout",
     "output_type": "stream",
     "text": [
      "The names which exist in the first name list but not exist in the second set of name list : {'Cole', 'Mike'}\n"
     ]
    }
   ],
   "source": [
    "name_list_1 = set([\"Jenny\", \"Cole\", \"Jax\", \"Mike\"])\n",
    "name_list_2 = set([\"Jenny\", \"Jax\"])\n",
    " \n",
    "print(\"The names which exist in the first name list but not exist in the second set of name list :\", name_list_1.difference(name_list_2))"
   ]
  }
 ],
 "metadata": {
  "kernelspec": {
   "display_name": "Python 3.9.12 ('base')",
   "language": "python",
   "name": "python3"
  },
  "language_info": {
   "codemirror_mode": {
    "name": "ipython",
    "version": 3
   },
   "file_extension": ".py",
   "mimetype": "text/x-python",
   "name": "python",
   "nbconvert_exporter": "python",
   "pygments_lexer": "ipython3",
   "version": "3.9.12"
  },
  "orig_nbformat": 4,
  "vscode": {
   "interpreter": {
    "hash": "f7882b05de924ecb04b2279d3bf694a6babdfc8bca6d7cffbb546457d0858fa9"
   }
  }
 },
 "nbformat": 4,
 "nbformat_minor": 2
}
